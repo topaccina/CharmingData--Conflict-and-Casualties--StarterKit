{
 "cells": [
  {
   "cell_type": "code",
   "execution_count": 1,
   "metadata": {},
   "outputs": [],
   "source": [
    "import pandas as pd\n",
    "import requests\n",
    "from bs4 import BeautifulSoup\n",
    "import re\n",
    "import json\n"
   ]
  },
  {
   "cell_type": "code",
   "execution_count": 2,
   "metadata": {},
   "outputs": [],
   "source": [
    "\n",
    "#get 2024 monthly data collections from ucdp downloads page \n",
    "url = 'https://ucdp.uu.se/downloads/'\n",
    "reqs = requests.get(url)\n",
    "soup = BeautifulSoup(reqs.text, 'html.parser')\n",
    "pattern = re.compile(r\"https://ucdp.uu.se/downloads/candidateged/GEDEvent_v24_.*.csv\")\n",
    "links = soup.find_all(\"a\", href=pattern)\n",
    " \n",
    "urls = []\n",
    "data=pd.DataFrame()\n",
    "for link in links:\n",
    "    urls.append(link.get('href'))\n",
    "\n",
    "#concat all the available dasets. Add reference to the original csv\n",
    "for url in urls:\n",
    "    tmp=pd.read_csv(url)\n",
    "    tmp['data_orig']=url\n",
    "    data=pd.concat([data,tmp],ignore_index=True)\n",
    "\n"
   ]
  },
  {
   "cell_type": "code",
   "execution_count": 7,
   "metadata": {},
   "outputs": [],
   "source": [
    "#data cleansing \n",
    "data['country']=data.country.str.replace(\" \\(.*\\)\",\"\", regex=True)\n",
    "#remove events with date precision >1week\n",
    "data=data[data['date_prec']<4]\n",
    "#remove violent events outside conflicts\n",
    "data=data[(~data['conflict_name'].str.contains('XXX'))&(data.date_prec<5)]\n",
    "\n",
    "#retrive countries geometries, locations ids (iso-alpha codes) ---> original data source from kaggle\n",
    "# Opening JSON file\n",
    "f = open('../data/world-countries.json')\n",
    "# returns JSON object as\n",
    "# a dictionary\n",
    "geoj = json.load(f)\n",
    "\n",
    "#merge with main dataset\n",
    "countryIsoAlpha=pd.DataFrame({'country':[x['properties']['name'] for x in geoj['features']],'iso_alpha':[x['id'] for x in geoj['features']]})\n",
    "data=pd.merge(data,countryIsoAlpha, on='country', how='left')\n",
    "\n",
    "\n",
    "#retrive countries gps location to assign center GPS coordinates for each country  ---> original data source from kaggle\n",
    "# https://www.kaggle.com/datasets/paultimothymooney/latitude-and-longitude-for-every-country-and-state\n",
    "#merge with main dataset\n",
    "gpsTable=pd.read_csv('../data/world_country_latitude_and_longitude.csv')\n",
    "data=pd.merge(data,gpsTable, on='country', how='left')\n",
    "\n",
    "#post proc \"date_start\". For data aggregation purpose\n",
    "data['date_start']=pd.DatetimeIndex(data['date_start'])\n",
    "data['date_start_m']=pd.DatetimeIndex(data['date_start']).month\n",
    "data['date_start_y']=pd.DatetimeIndex(data['date_start']).year\n",
    "data['date_start_w']=pd.to_datetime(data['date_start']).dt.isocalendar().week\n",
    "data['date_start_wymd']=pd.to_datetime(data['date_start']).dt.to_period('W').astype(str).str.replace('/.*[0-9]$','',regex=True)\n",
    "#remove events with hpy date_start before 2024\n",
    "data=data[data.date_start_y == 2024]\n",
    "\n",
    "#create ref link to UCDP dedicates page for each country \n",
    "data['country_link']='https://ucdp.uu.se/country/'+data.country_id.astype(str)\n",
    "\n",
    "#export the final dataset - csv format\n",
    "data.to_csv('../data/data_2024.csv',index=False)"
   ]
  },
  {
   "cell_type": "code",
   "execution_count": null,
   "metadata": {},
   "outputs": [],
   "source": []
  }
 ],
 "metadata": {
  "kernelspec": {
   "display_name": "Python 3",
   "language": "python",
   "name": "python3"
  },
  "language_info": {
   "codemirror_mode": {
    "name": "ipython",
    "version": 3
   },
   "file_extension": ".py",
   "mimetype": "text/x-python",
   "name": "python",
   "nbconvert_exporter": "python",
   "pygments_lexer": "ipython3",
   "version": "3.11.7"
  }
 },
 "nbformat": 4,
 "nbformat_minor": 2
}
