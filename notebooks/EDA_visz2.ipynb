{
 "cells": [
  {
   "cell_type": "code",
   "execution_count": null,
   "metadata": {},
   "outputs": [],
   "source": [
    "import pandas as pd\n",
    "import plotly.express as px\n",
    "import plotly.graph_objects as go\n",
    "import json\n",
    "import numpy as np\n"
   ]
  },
  {
   "cell_type": "code",
   "execution_count": null,
   "metadata": {},
   "outputs": [],
   "source": [
    "#get post-proc dataset\n",
    "data=pd.read_csv('../data/data_2024.csv')\n",
    "#retrive countries geometries, locations ids (iso-alpha codes) ---> original data source from kaggle\n",
    "# Opening JSON file\n",
    "f = open('../data/world-countries.json')\n",
    "# returns JSON object as\n",
    "# a dictionary\n",
    "geoj = json.load(f)"
   ]
  },
  {
   "cell_type": "code",
   "execution_count": null,
   "metadata": {},
   "outputs": [],
   "source": [
    "#choropleth map - world level. color by best estimate of total deaths per country. Aggregate data\n",
    "#to shrink color scale, log of the best estimate has been used.\n",
    "#to make the scale easy to read, the legend has beed re-mapped to the non-log data.\n",
    "data_agg=data.groupby(by=['country','iso_alpha'])[['best','deaths_civilians']].sum().reset_index()\n",
    "data_agg['best_log']=np.log10(data_agg.best+1)\n",
    "data_agg['deaths_civilians_log']=np.log10(data_agg.deaths_civilians+1)\n",
    "#map code\n",
    "fig = px.choropleth_mapbox(data_agg,  locations='iso_alpha' ,color='best_log', geojson=geoj,\n",
    "                           color_continuous_scale=\"Viridis\",mapbox_style=\"open-street-map\",\n",
    "                           zoom=1,\n",
    "                           opacity=0.5,\n",
    "                           hover_name='country',\n",
    "                           hover_data=['deaths_civilians','best'])\n",
    "fig.update_layout(margin={\"r\":0,\"t\":0,\"l\":0,\"b\":0},coloraxis_colorbar=dict(\n",
    "        title=\"Deaths\",\n",
    "        tickvals=[0, 1, 2, 3, 4, 5],\n",
    "        ticktext=[\"1\", \"10\", \"100\", \"1k\", \"10k\", \"100k\"],\n",
    "    ),)\n",
    "\n",
    "fig.update_traces(marker_line_width=0)\n",
    "fig.show()"
   ]
  },
  {
   "cell_type": "code",
   "execution_count": null,
   "metadata": {},
   "outputs": [],
   "source": [
    "#choropleth map - world level. color by best estimate of total deaths per country. aggregate data on weekly basis\n",
    "#to shrink color scale, eval \"log\"\n",
    "#animated version\n",
    "#sort data by date - this is to get the correct animation sequency\n",
    "\n",
    "data_agg_weekly=data.groupby(by=['country','iso_alpha','date_start_wymd','region'])[['best','deaths_civilians']].sum().reset_index()\n",
    "data_agg_weekly['best_log']=np.log10(data_agg_weekly.best+1)\n",
    "data_agg_weekly['deaths_civilians_log']=np.log10(data_agg_weekly.deaths_civilians+1)\n",
    "#sort data by date - this is to get the correct animation sequency\n",
    "data_agg_weekly[\"date_start_wymd\"]=pd.to_datetime(data_agg_weekly[\"date_start_wymd\"]).dt.strftime('%Y-%m-%d')\n",
    "data_agg_weekly.sort_values(by=['date_start_wymd'], inplace=True)\n",
    "data_agg_weekly.reset_index(drop=True, inplace=True)\n",
    "#focus on spefic region - e.g. Africa\n",
    "data_agg_weekly=data_agg_weekly[data_agg_weekly.region=='Africa']\n",
    "#map code\n",
    "fig = px.choropleth_mapbox(data_agg_weekly,  locations='iso_alpha' ,color='best', geojson=geoj,\n",
    "                           color_continuous_scale=\"Viridis\",\n",
    "                           mapbox_style=\"open-street-map\",\n",
    "                           zoom=1,\n",
    "                           opacity=0.5,\n",
    "                           hover_name='country',\n",
    "                           hover_data=['deaths_civilians','best'] ,animation_frame=\"date_start_wymd\", animation_group=\"country\")\n",
    "fig.update_layout(margin={\"r\":0,\"t\":0,\"l\":0,\"b\":0},coloraxis_colorbar=dict(\n",
    "        title=\"Deaths\",\n",
    "      \n",
    "    ),height=800)\n",
    "\n",
    "\n",
    "fig.update_traces(marker_line_width=0)\n",
    "fig.show()"
   ]
  },
  {
   "cell_type": "code",
   "execution_count": null,
   "metadata": {},
   "outputs": [],
   "source": [
    "\n",
    "#focus on specific country (to be selected -Angola in this case) -- use scatter map ox to show events location more precisely.\n",
    "#in this case the color scale refer to deaths_civilians.\n",
    "#map center point to the selected country\n",
    "country_sel='Burkina Faso'\n",
    "data_ff=data[data.country==country_sel]\n",
    "fig = px.scatter_mapbox(data_ff, lat=\"latitude\", lon=\"longitude\", color='deaths_civilians',\n",
    "                     hover_name=\"country\", size=\"deaths_civilians\", zoom=4, height=500, \n",
    "                     center = {\"lat\": data_ff.latitude.values[0], \"lon\":data_ff.longitude.values[0]},\n",
    "                     color_continuous_scale=px.colors.cyclical.IceFire\n",
    "                     )\n",
    "\n",
    "fig.update_layout(mapbox_style=\"carto-positron\")\n",
    "fig.update_layout(margin={\"r\":0,\"t\":0,\"l\":0,\"b\":0})\n",
    "fig.show()"
   ]
  }
 ],
 "metadata": {
  "kernelspec": {
   "display_name": ".venv",
   "language": "python",
   "name": "python3"
  },
  "language_info": {
   "codemirror_mode": {
    "name": "ipython",
    "version": 3
   },
   "file_extension": ".py",
   "mimetype": "text/x-python",
   "name": "python",
   "nbconvert_exporter": "python",
   "pygments_lexer": "ipython3",
   "version": "3.11.7"
  }
 },
 "nbformat": 4,
 "nbformat_minor": 2
}
